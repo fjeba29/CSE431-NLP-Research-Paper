{
 "cells": [
  {
   "cell_type": "code",
   "execution_count": 1,
   "id": "2ff77376",
   "metadata": {},
   "outputs": [],
   "source": [
    "import pandas as pd\n",
    "import numpy as np\n",
    "from scipy import stats\n",
    "import seaborn as sns\n",
    "sns.set_style(\"whitegrid\")\n",
    "import matplotlib.pyplot as plt\n",
    "from keras.datasets import imdb\n",
    "from keras.preprocessing.sequence import pad_sequences\n",
    "from keras.models import Sequential\n",
    "from keras.layers.embeddings import Embedding\n",
    "from keras.layers import SimpleRNN,Dense, Activation\n",
    "from sklearn.metrics import confusion_matrix"
   ]
  },
  {
   "cell_type": "code",
   "execution_count": 2,
   "id": "b07e9770",
   "metadata": {},
   "outputs": [],
   "source": [
    "(X_train,Y_train), (X_test, Y_test) = imdb.load_data(path = \"imdb.npz\",\n",
    "                                    num_words = None,\n",
    "                                    skip_top = 0,\n",
    "                                    maxlen = None,\n",
    "                                    seed = 113,\n",
    "                                    start_char = 1,\n",
    "                                    oov_char = 2,\n",
    "                                    index_from = 3)"
   ]
  },
  {
   "cell_type": "code",
   "execution_count": 3,
   "id": "26a90146",
   "metadata": {},
   "outputs": [
    {
     "name": "stdout",
     "output_type": "stream",
     "text": [
      "Type:  <class 'numpy.ndarray'>\n"
     ]
    }
   ],
   "source": [
    "print(\"Type: \",type(X_train))"
   ]
  },
  {
   "cell_type": "code",
   "execution_count": 4,
   "id": "cabb735d",
   "metadata": {},
   "outputs": [
    {
     "name": "stdout",
     "output_type": "stream",
     "text": [
      "X train shape:  (25000,)\n",
      "Y train shape:  (25000,)\n"
     ]
    }
   ],
   "source": [
    "print(\"X train shape: \",X_train.shape)\n",
    "print(\"Y train shape: \",Y_train.shape)"
   ]
  },
  {
   "cell_type": "markdown",
   "id": "5af052a4",
   "metadata": {},
   "source": [
    "# Exploratory Data Analysis"
   ]
  },
  {
   "cell_type": "code",
   "execution_count": 5,
   "id": "5b6e2a08",
   "metadata": {},
   "outputs": [
    {
     "name": "stdout",
     "output_type": "stream",
     "text": [
      "Y train values:  [0 1]\n",
      "Y test values:  [0 1]\n"
     ]
    }
   ],
   "source": [
    "print(\"Y train values: \",np.unique(Y_train))\n",
    "print(\"Y test values: \",np.unique(Y_test))"
   ]
  },
  {
   "cell_type": "code",
   "execution_count": 6,
   "id": "d91bb405",
   "metadata": {},
   "outputs": [
    {
     "name": "stdout",
     "output_type": "stream",
     "text": [
      "Y train distribution:  {0: 12500, 1: 12500}\n"
     ]
    }
   ],
   "source": [
    "unique,  counts = np.unique(Y_train, return_counts = True)\n",
    "print(\"Y train distribution: \", dict(zip(unique,counts)))"
   ]
  },
  {
   "cell_type": "code",
   "execution_count": 7,
   "id": "b8828bea",
   "metadata": {},
   "outputs": [
    {
     "name": "stdout",
     "output_type": "stream",
     "text": [
      "Y test distribution:  {0: 12500, 1: 12500}\n"
     ]
    }
   ],
   "source": [
    "unique,  counts = np.unique(Y_test, return_counts = True)\n",
    "print(\"Y test distribution: \", dict(zip(unique,counts)))"
   ]
  },
  {
   "cell_type": "code",
   "execution_count": 8,
   "id": "e12f158c",
   "metadata": {},
   "outputs": [
    {
     "name": "stderr",
     "output_type": "stream",
     "text": [
      "C:\\Users\\amitr\\anaconda3\\lib\\site-packages\\seaborn\\_decorators.py:36: FutureWarning: Pass the following variable as a keyword arg: x. From version 0.12, the only valid positional argument will be `data`, and passing other arguments without an explicit keyword will result in an error or misinterpretation.\n",
      "  warnings.warn(\n"
     ]
    },
    {
     "data": {
      "image/png": "[encoded data removed]",
      "text/plain": [
       "<Figure size 432x432 with 1 Axes>"
      ]
     },
     "metadata": {},
     "output_type": "display_data"
    }
   ],
   "source": [
    "plt.figure(figsize = (6,6))\n",
    "sns.countplot(Y_train)\n",
    "plt.xlabel(\"Classes\")\n",
    "plt.ylabel(\"Freq\")\n",
    "plt.title(\"Y train\")\n",
    "plt.show()"
   ]
  },
  {
   "cell_type": "code",
   "execution_count": 9,
   "id": "669b860c",
   "metadata": {},
   "outputs": [
    {
     "name": "stderr",
     "output_type": "stream",
     "text": [
      "C:\\Users\\amitr\\anaconda3\\lib\\site-packages\\seaborn\\_decorators.py:36: FutureWarning: Pass the following variable as a keyword arg: x. From version 0.12, the only valid positional argument will be `data`, and passing other arguments without an explicit keyword will result in an error or misinterpretation.\n",
      "  warnings.warn(\n"
     ]
    },
    {
     "data": {
      "image/png": "[encoded data removed]",
      "text/plain": [
       "<Figure size 432x432 with 1 Axes>"
      ]
     },
     "metadata": {},
     "output_type": "display_data"
    }
   ],
   "source": [
    "plt.figure(figsize = (6,6))\n",
    "sns.countplot(Y_test)\n",
    "plt.xlabel(\"Classes\")\n",
    "plt.ylabel(\"Freq\")\n",
    "plt.title(\"Y test\")\n",
    "plt.show()"
   ]
  },
  {
   "cell_type": "code",
   "execution_count": 10,
   "id": "7d34541f",
   "metadata": {},
   "outputs": [
    {
     "name": "stdout",
     "output_type": "stream",
     "text": [
      "[1, 14, 22, 16, 43, 530, 973, 1622, 1385, 65, 458, 4468, 66, 3941, 4, 173, 36, 256, 5, 25, 100, 43, 838, 112, 50, 670, 22665, 9, 35, 480, 284, 5, 150, 4, 172, 112, 167, 21631, 336, 385, 39, 4, 172, 4536, 1111, 17, 546, 38, 13, 447, 4, 192, 50, 16, 6, 147, 2025, 19, 14, 22, 4, 1920, 4613, 469, 4, 22, 71, 87, 12, 16, 43, 530, 38, 76, 15, 13, 1247, 4, 22, 17, 515, 17, 12, 16, 626, 18, 19193, 5, 62, 386, 12, 8, 316, 8, 106, 5, 4, 2223, 5244, 16, 480, 66, 3785, 33, 4, 130, 12, 16, 38, 619, 5, 25, 124, 51, 36, 135, 48, 25, 1415, 33, 6, 22, 12, 215, 28, 77, 52, 5, 14, 407, 16, 82, 10311, 8, 4, 107, 117, 5952, 15, 256, 4, 31050, 7, 3766, 5, 723, 36, 71, 43, 530, 476, 26, 400, 317, 46, 7, 4, 12118, 1029, 13, 104, 88, 4, 381, 15, 297, 98, 32, 2071, 56, 26, 141, 6, 194, 7486, 18, 4, 226, 22, 21, 134, 476, 26, 480, 5, 144, 30, 5535, 18, 51, 36, 28, 224, 92, 25, 104, 4, 226, 65, 16, 38, 1334, 88, 12, 16, 283, 5, 16, 4472, 113, 103, 32, 15, 16, 5345, 19, 178, 32]\n"
     ]
    }
   ],
   "source": [
    "d = X_train[0]\n",
    "print(d)"
   ]
  },
  {
   "cell_type": "code",
   "execution_count": 11,
   "id": "b7d6517d",
   "metadata": {},
   "outputs": [
    {
     "name": "stdout",
     "output_type": "stream",
     "text": [
      "218\n"
     ]
    }
   ],
   "source": [
    "print(len(d))"
   ]
  },
  {
   "cell_type": "code",
   "execution_count": 12,
   "id": "53c7ead6",
   "metadata": {},
   "outputs": [
    {
     "name": "stderr",
     "output_type": "stream",
     "text": [
      "C:\\Users\\amitr\\anaconda3\\lib\\site-packages\\seaborn\\distributions.py:2619: FutureWarning: `distplot` is a deprecated function and will be removed in a future version. Please adapt your code to use either `displot` (a figure-level function with similar flexibility) or `histplot` (an axes-level function for histograms).\n",
      "  warnings.warn(msg, FutureWarning)\n",
      "C:\\Users\\amitr\\anaconda3\\lib\\site-packages\\seaborn\\distributions.py:2619: FutureWarning: `distplot` is a deprecated function and will be removed in a future version. Please adapt your code to use either `displot` (a figure-level function with similar flexibility) or `histplot` (an axes-level function for histograms).\n",
      "  warnings.warn(msg, FutureWarning)\n"
     ]
    },
    {
     "data": {
      "image/png": "[encoded data removed]",
      "text/plain": [
       "<Figure size 720x432 with 1 Axes>"
      ]
     },
     "metadata": {},
     "output_type": "display_data"
    }
   ],
   "source": [
    "review_len_train = []\n",
    "review_len_test = []\n",
    "for i,ii in zip(X_train, X_test):\n",
    "    review_len_train.append(len(i))\n",
    "    review_len_test.append(len(ii))\n",
    "\n",
    "plt.figure(figsize = (10,6))\n",
    "sns.distplot(review_len_train, hist_kws = {\"alpha\":0.3})\n",
    "sns.distplot(review_len_test, hist_kws = {\"alpha\":0.3})\n",
    "plt.show()"
   ]
  },
  {
   "cell_type": "code",
   "execution_count": 13,
   "id": "f1e26dad",
   "metadata": {},
   "outputs": [
    {
     "name": "stdout",
     "output_type": "stream",
     "text": [
      "Train Mean: 238.71364\n",
      "Train Median: 178.0\n",
      "Train Mode: 132\n"
     ]
    }
   ],
   "source": [
    "print(\"Train Mean:\", np.mean(review_len_train))\n",
    "print(\"Train Median:\", np.median(review_len_train))\n",
    "print(\"Train Mode:\", stats.mode(review_len_train)[0][0])"
   ]
  },
  {
   "cell_type": "markdown",
   "id": "2c6cd2ec",
   "metadata": {},
   "source": [
    "# Number of Words"
   ]
  },
  {
   "cell_type": "code",
   "execution_count": 14,
   "id": "c64d937c",
   "metadata": {},
   "outputs": [
    {
     "name": "stdout",
     "output_type": "stream",
     "text": [
      "<class 'dict'>\n"
     ]
    }
   ],
   "source": [
    "word_index = imdb.get_word_index()\n",
    "print(type(word_index))"
   ]
  },
  {
   "cell_type": "code",
   "execution_count": 15,
   "id": "332b0d5e",
   "metadata": {},
   "outputs": [
    {
     "name": "stdout",
     "output_type": "stream",
     "text": [
      "88584\n"
     ]
    }
   ],
   "source": [
    "print(len(word_index))"
   ]
  },
  {
   "cell_type": "code",
   "execution_count": 16,
   "id": "44afe68e",
   "metadata": {},
   "outputs": [
    {
     "name": "stdout",
     "output_type": "stream",
     "text": [
      "the\n"
     ]
    }
   ],
   "source": [
    "for keys, values in word_index.items():\n",
    "    if values == 1:\n",
    "        print(keys)"
   ]
  },
  {
   "cell_type": "code",
   "execution_count": 17,
   "id": "f72aced7",
   "metadata": {},
   "outputs": [],
   "source": [
    "def whatItSay(index = 24):\n",
    "    \n",
    "    reverse_index = dict([(value,key) for (key, value) in word_index.items()])\n",
    "    decode_review = \" \".join([reverse_index.get(i - 3, \"!\") for i in X_train[index]])\n",
    "    print(decode_review)\n",
    "    print(Y_train[index])\n",
    "    return decode_review"
   ]
  },
  {
   "cell_type": "code",
   "execution_count": 18,
   "id": "ca903353",
   "metadata": {},
   "outputs": [
    {
     "name": "stdout",
     "output_type": "stream",
     "text": [
      "! a total waste of time just throw in a few explosions non stop fighting exotic cars a deranged millionaire slow motion computer generated car crashes and last but not least a hugh hefner like character with wall to wall hot babes and mix in a blender and you will have this sorry excuse for a movie i really got a laugh out of the dr evil like heavily fortified compound the plot was somewhere between preposterous and non existent how many millionaires are willing to make a 25 million dollar bet on a car race answer 4 but didn't they become millionaires through fiscal responsibility this was written for pubescent males it plays like a video game i did enjoy the gulfstream ii landing in the desert though\n",
      "0\n"
     ]
    }
   ],
   "source": [
    "decoded_review = whatItSay(15)"
   ]
  },
  {
   "cell_type": "markdown",
   "id": "a679e48c",
   "metadata": {},
   "source": [
    "# Preprocessing"
   ]
  },
  {
   "cell_type": "code",
   "execution_count": 19,
   "id": "59b25baf",
   "metadata": {},
   "outputs": [],
   "source": [
    "num_words = 25000\n",
    "(X_train,Y_train), (X_test, Y_test) = imdb.load_data(num_words = num_words)"
   ]
  },
  {
   "cell_type": "code",
   "execution_count": 20,
   "id": "41c7f42c",
   "metadata": {},
   "outputs": [
    {
     "name": "stdout",
     "output_type": "stream",
     "text": [
      "[    0     0     0     0     0     0     0     0     0     0     0     0\n",
      "     0     0     0     0     0     0     0     0     0     0     0     0\n",
      "     0     0     0     0     0     0     0     0     0     0     0     0\n",
      "     0     0     0     0     0     0     0     0     0     0     0     0\n",
      "     0     0     0     0     0     0     0     0     0     0     0     0\n",
      "     0     0     0     0     0     0     0     0     0     0     0     0\n",
      "     0     0     0     0     0     0     0     0     0     0     0     0\n",
      "     0     0     0     0     0     0     0     0     0     0     0     0\n",
      "     0     0     0     0     0     0     0     0     0     0     0     0\n",
      "     0     0     0     0     0     0     0     0     0     1   778   128\n",
      "    74    12   630   163    15     4  1766  7982  1051     2    32    85\n",
      "   156    45    40   148   139   121   664   665    10    10  1361   173\n",
      "     4   749     2    16  3804     8     4   226    65    12    43   127\n",
      "    24 15344    10    10]\n",
      "160\n",
      "160\n",
      "160\n",
      "160\n",
      "160\n",
      "160\n",
      "160\n",
      "160\n",
      "160\n",
      "160\n",
      "! ! ! ! ! ! ! ! ! ! ! ! ! ! ! ! ! ! ! ! ! ! ! ! ! ! ! ! ! ! ! ! ! ! ! ! ! ! ! ! ! ! ! ! ! ! ! ! ! ! ! ! ! ! ! ! ! ! ! ! ! ! ! ! ! ! ! ! ! ! ! ! ! ! ! ! ! ! ! ! ! ! ! ! ! ! ! ! ! ! ! ! ! ! ! ! ! ! ! ! ! ! ! ! ! ! ! ! ! ! ! ! ! ! ! ! ! ! begins better than it ends funny that the russian submarine crew ! all other actors it's like those scenes where documentary shots br br spoiler part the message ! was contrary to the whole story it just does not mesh br br\n",
      "0\n"
     ]
    }
   ],
   "source": [
    "maxlen = 160\n",
    "X_train = pad_sequences(X_train, maxlen = maxlen)\n",
    "X_test = pad_sequences(X_test, maxlen = maxlen)\n",
    "\n",
    "print(X_train[5])\n",
    "\n",
    "for i in X_train[0:10]:\n",
    "    print(len(i))\n",
    "    \n",
    "decoded_review = whatItSay(5)"
   ]
  },
  {
   "cell_type": "markdown",
   "id": "7d75bd65",
   "metadata": {},
   "source": [
    "# Constructing Recurrent Neural Network"
   ]
  },
  {
   "cell_type": "code",
   "execution_count": 21,
   "id": "d70067b4",
   "metadata": {},
   "outputs": [
    {
     "name": "stdout",
     "output_type": "stream",
     "text": [
      "Model: \"sequential\"\n",
      "_________________________________________________________________\n",
      " Layer (type)                Output Shape              Param #   \n",
      "=================================================================\n",
      " embedding (Embedding)       (None, 160, 32)           800000    \n",
      "                                                                 \n",
      " simple_rnn (SimpleRNN)      (None, 16)                784       \n",
      "                                                                 \n",
      " dense (Dense)               (None, 1)                 17        \n",
      "                                                                 \n",
      "=================================================================\n",
      "Total params: 800,801\n",
      "Trainable params: 800,801\n",
      "Non-trainable params: 0\n",
      "_________________________________________________________________\n",
      "None\n"
     ]
    }
   ],
   "source": [
    "rnn = Sequential()\n",
    "rnn.add(Embedding(num_words, 32, input_length = len(X_train[0])))\n",
    "rnn.add(SimpleRNN(16, input_shape = (num_words, maxlen), return_sequences = False, activation = \"relu\"))\n",
    "rnn.add(Dense(1,activation = \"sigmoid\"))\n",
    "# rnn.add(Activation(\"sigmoid\"))\n",
    "\n",
    "print(rnn.summary())\n",
    "rnn.compile(loss = \"binary_crossentropy\", optimizer = \"Adam\", metrics = [\"accuracy\"])"
   ]
  },
  {
   "cell_type": "markdown",
   "id": "68209e3f",
   "metadata": {},
   "source": [
    "# Training Recurrent Neural Network"
   ]
  },
  {
   "cell_type": "code",
   "execution_count": 22,
   "id": "fe55d726",
   "metadata": {
    "scrolled": false
   },
   "outputs": [
    {
     "name": "stdout",
     "output_type": "stream",
     "text": [
      "Epoch 1/30\n",
      "196/196 [==============================] - 5s 20ms/step - loss: 0.6388 - accuracy: 0.6185 - val_loss: 0.4889 - val_accuracy: 0.7900\n",
      "Epoch 2/30\n",
      "196/196 [==============================] - 4s 20ms/step - loss: 0.3573 - accuracy: 0.8533 - val_loss: 0.4328 - val_accuracy: 0.8044\n",
      "Epoch 3/30\n",
      "196/196 [==============================] - 4s 20ms/step - loss: 0.2080 - accuracy: 0.9188 - val_loss: 0.3422 - val_accuracy: 0.8605\n",
      "Epoch 4/30\n",
      "196/196 [==============================] - 4s 20ms/step - loss: 0.1406 - accuracy: 0.9493 - val_loss: 0.3597 - val_accuracy: 0.8594\n",
      "Epoch 5/30\n",
      "196/196 [==============================] - 4s 20ms/step - loss: 0.0831 - accuracy: 0.9728 - val_loss: 0.4103 - val_accuracy: 0.8516\n",
      "Epoch 6/30\n",
      "196/196 [==============================] - 4s 20ms/step - loss: 0.0549 - accuracy: 0.9833 - val_loss: 0.4931 - val_accuracy: 0.8468\n",
      "Epoch 7/30\n",
      "196/196 [==============================] - 4s 20ms/step - loss: 0.0415 - accuracy: 0.9875 - val_loss: 0.5278 - val_accuracy: 0.8467\n",
      "Epoch 8/30\n",
      "196/196 [==============================] - 4s 20ms/step - loss: 0.0320 - accuracy: 0.9903 - val_loss: 0.6027 - val_accuracy: 0.8467\n",
      "Epoch 9/30\n",
      "196/196 [==============================] - 4s 20ms/step - loss: 0.0284 - accuracy: 0.9911 - val_loss: 0.5282 - val_accuracy: 0.8380\n",
      "Epoch 10/30\n",
      "196/196 [==============================] - 4s 20ms/step - loss: 0.0367 - accuracy: 0.9874 - val_loss: 0.6411 - val_accuracy: 0.8282\n",
      "Epoch 11/30\n",
      "196/196 [==============================] - 4s 20ms/step - loss: 0.0195 - accuracy: 0.9945 - val_loss: 0.8182 - val_accuracy: 0.8420\n",
      "Epoch 12/30\n",
      "196/196 [==============================] - 4s 20ms/step - loss: 0.0194 - accuracy: 0.9947 - val_loss: 0.7622 - val_accuracy: 0.8413\n",
      "Epoch 13/30\n",
      "196/196 [==============================] - 4s 20ms/step - loss: 0.0155 - accuracy: 0.9955 - val_loss: 0.6858 - val_accuracy: 0.8350\n",
      "Epoch 14/30\n",
      "196/196 [==============================] - 4s 20ms/step - loss: 0.0163 - accuracy: 0.9951 - val_loss: 0.7647 - val_accuracy: 0.8330\n",
      "Epoch 15/30\n",
      "196/196 [==============================] - 4s 20ms/step - loss: 0.0147 - accuracy: 0.9960 - val_loss: 0.9352 - val_accuracy: 0.8413\n",
      "Epoch 16/30\n",
      "196/196 [==============================] - 4s 20ms/step - loss: 0.0171 - accuracy: 0.9952 - val_loss: 0.9068 - val_accuracy: 0.8401\n",
      "Epoch 17/30\n",
      "196/196 [==============================] - 4s 20ms/step - loss: 0.0393 - accuracy: 0.9863 - val_loss: 0.8019 - val_accuracy: 0.8415\n",
      "Epoch 18/30\n",
      "196/196 [==============================] - 4s 20ms/step - loss: 0.0113 - accuracy: 0.9964 - val_loss: 0.7108 - val_accuracy: 0.8374\n",
      "Epoch 19/30\n",
      "196/196 [==============================] - 4s 20ms/step - loss: 0.0544 - accuracy: 0.9805 - val_loss: 0.6784 - val_accuracy: 0.8318\n",
      "Epoch 20/30\n",
      "196/196 [==============================] - 4s 20ms/step - loss: 0.0207 - accuracy: 0.9940 - val_loss: 0.8668 - val_accuracy: 0.8292\n",
      "Epoch 21/30\n",
      "196/196 [==============================] - 4s 21ms/step - loss: 0.0113 - accuracy: 0.9971 - val_loss: 0.8957 - val_accuracy: 0.8388\n",
      "Epoch 22/30\n",
      "196/196 [==============================] - 4s 20ms/step - loss: 0.0102 - accuracy: 0.9969 - val_loss: 0.9217 - val_accuracy: 0.8332\n",
      "Epoch 23/30\n",
      "196/196 [==============================] - 4s 20ms/step - loss: 0.0095 - accuracy: 0.9974 - val_loss: 0.9812 - val_accuracy: 0.8312\n",
      "Epoch 24/30\n",
      "196/196 [==============================] - 4s 20ms/step - loss: 0.0048 - accuracy: 0.9987 - val_loss: 1.0231 - val_accuracy: 0.8271\n",
      "Epoch 25/30\n",
      "196/196 [==============================] - 4s 21ms/step - loss: 0.0040 - accuracy: 0.9992 - val_loss: 1.1720 - val_accuracy: 0.8366\n",
      "Epoch 26/30\n",
      "196/196 [==============================] - 4s 20ms/step - loss: 0.0015 - accuracy: 0.9998 - val_loss: 1.0886 - val_accuracy: 0.8383\n",
      "Epoch 27/30\n",
      "196/196 [==============================] - 4s 20ms/step - loss: 0.0020 - accuracy: 0.9995 - val_loss: 0.8586 - val_accuracy: 0.8269\n",
      "Epoch 28/30\n",
      "196/196 [==============================] - 4s 20ms/step - loss: 0.0022 - accuracy: 0.9994 - val_loss: 1.0472 - val_accuracy: 0.8368\n",
      "Epoch 29/30\n",
      "196/196 [==============================] - 4s 20ms/step - loss: 7.9574e-04 - accuracy: 0.9999 - val_loss: 1.2339 - val_accuracy: 0.8385\n",
      "Epoch 30/30\n",
      "196/196 [==============================] - 4s 20ms/step - loss: 6.8915e-04 - accuracy: 0.9999 - val_loss: 1.2589 - val_accuracy: 0.8380\n"
     ]
    }
   ],
   "source": [
    "history = rnn.fit(X_train, Y_train, validation_data = (X_test, Y_test),epochs = 30, batch_size = 128, verbose = 1)"
   ]
  },
  {
   "cell_type": "markdown",
   "id": "630ab517",
   "metadata": {},
   "source": [
    "# Evaluating Result"
   ]
  },
  {
   "cell_type": "markdown",
   "id": "5031ced7",
   "metadata": {},
   "source": [
    "# Accuracy"
   ]
  },
  {
   "cell_type": "code",
   "execution_count": 23,
   "id": "0fc122c1",
   "metadata": {},
   "outputs": [
    {
     "name": "stdout",
     "output_type": "stream",
     "text": [
      "782/782 [==============================] - 2s 3ms/step - loss: 1.2589 - accuracy: 0.8380\n",
      "Accuracy: % 83.80399942398071\n"
     ]
    }
   ],
   "source": [
    "score = rnn.evaluate(X_test, Y_test)\n",
    "print(\"Accuracy: %\",score[1]*100)"
   ]
  },
  {
   "cell_type": "code",
   "execution_count": 24,
   "id": "e12eba5f",
   "metadata": {},
   "outputs": [
    {
     "data": {
      "image/png": "[encoded data removed]",
      "text/plain": [
       "<Figure size 432x288 with 1 Axes>"
      ]
     },
     "metadata": {},
     "output_type": "display_data"
    }
   ],
   "source": [
    "plt.figure()\n",
    "plt.plot(history.history[\"accuracy\"], label = \"Train\")\n",
    "plt.plot(history.history[\"val_accuracy\"], label = \"Test\")\n",
    "plt.title(\"Accuracy\")\n",
    "plt.ylabel(\"Accuracy\")\n",
    "plt.xlabel(\"Epochs\")\n",
    "plt.legend()\n",
    "plt.show()"
   ]
  },
  {
   "cell_type": "code",
   "execution_count": 25,
   "id": "b20c9bfe",
   "metadata": {},
   "outputs": [
    {
     "data": {
      "image/png": "[encoded data removed]",
      "text/plain": [
       "<Figure size 432x288 with 1 Axes>"
      ]
     },
     "metadata": {},
     "output_type": "display_data"
    }
   ],
   "source": [
    "plt.figure()\n",
    "plt.plot(history.history[\"loss\"], label = \"Train\")\n",
    "plt.plot(history.history[\"val_loss\"], label = \"Test\")\n",
    "plt.title(\"Loss\")\n",
    "plt.ylabel(\"Loss\")\n",
    "plt.xlabel(\"Epochs\")\n",
    "plt.legend()\n",
    "plt.show()"
   ]
  },
  {
   "cell_type": "markdown",
   "id": "58ff7fbc",
   "metadata": {},
   "source": [
    "# Confusion Matrix"
   ]
  },
  {
   "cell_type": "code",
   "execution_count": 26,
   "id": "68286108",
   "metadata": {},
   "outputs": [
    {
     "data": {
      "image/png": "[encoded data removed]",
      "text/plain": [
       "<Figure size 432x432 with 2 Axes>"
      ]
     },
     "metadata": {},
     "output_type": "display_data"
    },
    {
     "name": "stdout",
     "output_type": "stream",
     "text": [
      "True Positive: 10618\n",
      "True Negative: 10333\n",
      "False Positive: 1882\n",
      "False Negative: 2167\n"
     ]
    }
   ],
   "source": [
    "y_pred = rnn.predict(X_test)\n",
    "y_pred = (y_pred > 0.5)\n",
    "cm = confusion_matrix(Y_test,y_pred)\n",
    "\n",
    "df1 = pd.DataFrame(columns=[\"True\",\"False\"], index= [\"True\",\"False\"], data= cm ) \n",
    "\n",
    "f,ax = plt.subplots(figsize=(6,6))\n",
    "sns.heatmap(df1, annot=True,cmap=\"Blues\", fmt= '.0f',ax=ax)\n",
    "plt.xlabel(\"Predicted Label\")\n",
    "plt.xticks(size = 12)\n",
    "plt.yticks(size = 12, rotation = 0)\n",
    "plt.ylabel(\"True Label\")\n",
    "plt.title(\"Confusion Matrix\", size = 30)\n",
    "plt.show()\n",
    "\n",
    "print (\"True Positive:\" , (cm[0,0]))\n",
    "print (\"True Negative:\" , (cm[1,1]))\n",
    "print (\"False Positive:\" , (cm[0,1]))\n",
    "print (\"False Negative:\" , (cm[1,0]))"
   ]
  },
  {
   "cell_type": "code",
   "execution_count": null,
   "id": "ae6ad9ba",
   "metadata": {},
   "outputs": [],
   "source": []
  }
 ],
 "metadata": {
  "kernelspec": {
   "display_name": "Python 3 (ipykernel)",
   "language": "python",
   "name": "python3"
  },
  "language_info": {
   "codemirror_mode": {
    "name": "ipython",
    "version": 3
   },
   "file_extension": ".py",
   "mimetype": "text/x-python",
   "name": "python",
   "nbconvert_exporter": "python",
   "pygments_lexer": "ipython3",
   "version": "3.9.12"
  }
 },
 "nbformat": 4,
 "nbformat_minor": 5
}
