{
 "cells": [
  {
   "cell_type": "code",
   "execution_count": 2,
   "id": "2ff77376",
   "metadata": {},
   "outputs": [],
   "source": [
    "import pandas as pd\n",
    "import numpy as np\n",
    "from scipy import stats\n",
    "import seaborn as sns\n",
    "sns.set_style(\"whitegrid\")\n",
    "import matplotlib.pyplot as plt\n",
    "from keras.datasets import imdb\n",
    "from keras.preprocessing.sequence import pad_sequences\n",
    "from keras.models import Sequential\n",
    "from keras.layers.embeddings import Embedding\n",
    "# from keras.layers import SimpleRNN,Dense, Activation\n",
    "from sklearn.metrics import confusion_matrix"
   ]
  },
  {
   "cell_type": "code",
   "execution_count": 3,
   "id": "b07e9770",
   "metadata": {},
   "outputs": [],
   "source": [
    "(X_train,Y_train), (X_test, Y_test) = imdb.load_data(path = \"imdb.npz\",\n",
    "                                    num_words = None,\n",
    "                                    skip_top = 0,\n",
    "                                    maxlen = None,\n",
    "                                    seed = 113,\n",
    "                                    start_char = 1,\n",
    "                                    oov_char = 2,\n",
    "                                    index_from = 3)"
   ]
  },
  {
   "cell_type": "code",
   "execution_count": 4,
   "id": "26a90146",
   "metadata": {},
   "outputs": [
    {
     "name": "stdout",
     "output_type": "stream",
     "text": [
      "Type:  <class 'numpy.ndarray'>\n"
     ]
    }
   ],
   "source": [
    "print(\"Type: \",type(X_train))"
   ]
  },
  {
   "cell_type": "code",
   "execution_count": 5,
   "id": "cabb735d",
   "metadata": {},
   "outputs": [
    {
     "name": "stdout",
     "output_type": "stream",
     "text": [
      "X train shape:  (25000,)\n",
      "Y train shape:  (25000,)\n"
     ]
    }
   ],
   "source": [
    "print(\"X train shape: \",X_train.shape)\n",
    "print(\"Y train shape: \",Y_train.shape)"
   ]
  },
  {
   "cell_type": "markdown",
   "id": "5af052a4",
   "metadata": {},
   "source": [
    "# Exploratory Data Analysis"
   ]
  },
  {
   "cell_type": "code",
   "execution_count": 6,
   "id": "5b6e2a08",
   "metadata": {},
   "outputs": [
    {
     "name": "stdout",
     "output_type": "stream",
     "text": [
      "Y train values:  [0 1]\n",
      "Y test values:  [0 1]\n"
     ]
    }
   ],
   "source": [
    "print(\"Y train values: \",np.unique(Y_train))\n",
    "print(\"Y test values: \",np.unique(Y_test))"
   ]
  },
  {
   "cell_type": "code",
   "execution_count": 7,
   "id": "d91bb405",
   "metadata": {},
   "outputs": [
    {
     "name": "stdout",
     "output_type": "stream",
     "text": [
      "Y train distribution:  {0: 12500, 1: 12500}\n"
     ]
    }
   ],
   "source": [
    "unique,  counts = np.unique(Y_train, return_counts = True)\n",
    "print(\"Y train distribution: \", dict(zip(unique,counts)))"
   ]
  },
  {
   "cell_type": "code",
   "execution_count": 8,
   "id": "b8828bea",
   "metadata": {},
   "outputs": [
    {
     "name": "stdout",
     "output_type": "stream",
     "text": [
      "Y test distribution:  {0: 12500, 1: 12500}\n"
     ]
    }
   ],
   "source": [
    "unique,  counts = np.unique(Y_test, return_counts = True)\n",
    "print(\"Y test distribution: \", dict(zip(unique,counts)))"
   ]
  },
  {
   "cell_type": "code",
   "execution_count": 9,
   "id": "e12f158c",
   "metadata": {},
   "outputs": [
    {
     "name": "stderr",
     "output_type": "stream",
     "text": [
      "C:\\Users\\amitr\\anaconda3\\lib\\site-packages\\seaborn\\_decorators.py:36: FutureWarning: Pass the following variable as a keyword arg: x. From version 0.12, the only valid positional argument will be `data`, and passing other arguments without an explicit keyword will result in an error or misinterpretation.\n",
      "  warnings.warn(\n"
     ]
    },
    {
     "data": {
      "image/png": "[encoded data removed]",
      "text/plain": [
       "<Figure size 432x432 with 1 Axes>"
      ]
     },
     "metadata": {},
     "output_type": "display_data"
    }
   ],
   "source": [
    "plt.figure(figsize = (6,6))\n",
    "sns.countplot(Y_train)\n",
    "plt.xlabel(\"Classes\")\n",
    "plt.ylabel(\"Freq\")\n",
    "plt.title(\"Y train\")\n",
    "plt.show()"
   ]
  },
  {
   "cell_type": "code",
   "execution_count": 10,
   "id": "669b860c",
   "metadata": {},
   "outputs": [
    {
     "name": "stderr",
     "output_type": "stream",
     "text": [
      "C:\\Users\\amitr\\anaconda3\\lib\\site-packages\\seaborn\\_decorators.py:36: FutureWarning: Pass the following variable as a keyword arg: x. From version 0.12, the only valid positional argument will be `data`, and passing other arguments without an explicit keyword will result in an error or misinterpretation.\n",
      "  warnings.warn(\n"
     ]
    },
    {
     "data": {
      "image/png": "[encoded data removed]",
      "text/plain": [
       "<Figure size 432x432 with 1 Axes>"
      ]
     },
     "metadata": {},
     "output_type": "display_data"
    }
   ],
   "source": [
    "plt.figure(figsize = (6,6))\n",
    "sns.countplot(Y_test)\n",
    "plt.xlabel(\"Classes\")\n",
    "plt.ylabel(\"Freq\")\n",
    "plt.title(\"Y test\")\n",
    "plt.show()"
   ]
  },
  {
   "cell_type": "code",
   "execution_count": 11,
   "id": "7d34541f",
   "metadata": {},
   "outputs": [
    {
     "name": "stdout",
     "output_type": "stream",
     "text": [
      "[1, 14, 22, 16, 43, 530, 973, 1622, 1385, 65, 458, 4468, 66, 3941, 4, 173, 36, 256, 5, 25, 100, 43, 838, 112, 50, 670, 22665, 9, 35, 480, 284, 5, 150, 4, 172, 112, 167, 21631, 336, 385, 39, 4, 172, 4536, 1111, 17, 546, 38, 13, 447, 4, 192, 50, 16, 6, 147, 2025, 19, 14, 22, 4, 1920, 4613, 469, 4, 22, 71, 87, 12, 16, 43, 530, 38, 76, 15, 13, 1247, 4, 22, 17, 515, 17, 12, 16, 626, 18, 19193, 5, 62, 386, 12, 8, 316, 8, 106, 5, 4, 2223, 5244, 16, 480, 66, 3785, 33, 4, 130, 12, 16, 38, 619, 5, 25, 124, 51, 36, 135, 48, 25, 1415, 33, 6, 22, 12, 215, 28, 77, 52, 5, 14, 407, 16, 82, 10311, 8, 4, 107, 117, 5952, 15, 256, 4, 31050, 7, 3766, 5, 723, 36, 71, 43, 530, 476, 26, 400, 317, 46, 7, 4, 12118, 1029, 13, 104, 88, 4, 381, 15, 297, 98, 32, 2071, 56, 26, 141, 6, 194, 7486, 18, 4, 226, 22, 21, 134, 476, 26, 480, 5, 144, 30, 5535, 18, 51, 36, 28, 224, 92, 25, 104, 4, 226, 65, 16, 38, 1334, 88, 12, 16, 283, 5, 16, 4472, 113, 103, 32, 15, 16, 5345, 19, 178, 32]\n"
     ]
    }
   ],
   "source": [
    "d = X_train[0]\n",
    "print(d)"
   ]
  },
  {
   "cell_type": "code",
   "execution_count": 12,
   "id": "b7d6517d",
   "metadata": {},
   "outputs": [
    {
     "name": "stdout",
     "output_type": "stream",
     "text": [
      "218\n"
     ]
    }
   ],
   "source": [
    "print(len(d))"
   ]
  },
  {
   "cell_type": "code",
   "execution_count": 13,
   "id": "53c7ead6",
   "metadata": {},
   "outputs": [
    {
     "name": "stderr",
     "output_type": "stream",
     "text": [
      "C:\\Users\\amitr\\anaconda3\\lib\\site-packages\\seaborn\\distributions.py:2619: FutureWarning: `distplot` is a deprecated function and will be removed in a future version. Please adapt your code to use either `displot` (a figure-level function with similar flexibility) or `histplot` (an axes-level function for histograms).\n",
      "  warnings.warn(msg, FutureWarning)\n",
      "C:\\Users\\amitr\\anaconda3\\lib\\site-packages\\seaborn\\distributions.py:2619: FutureWarning: `distplot` is a deprecated function and will be removed in a future version. Please adapt your code to use either `displot` (a figure-level function with similar flexibility) or `histplot` (an axes-level function for histograms).\n",
      "  warnings.warn(msg, FutureWarning)\n"
     ]
    },
    {
     "data": {
      "image/png": "[encoded data removed]",
      "text/plain": [
       "<Figure size 720x432 with 1 Axes>"
      ]
     },
     "metadata": {},
     "output_type": "display_data"
    }
   ],
   "source": [
    "review_len_train = []\n",
    "review_len_test = []\n",
    "for i,ii in zip(X_train, X_test):\n",
    "    review_len_train.append(len(i))\n",
    "    review_len_test.append(len(ii))\n",
    "\n",
    "plt.figure(figsize = (10,6))\n",
    "sns.distplot(review_len_train, hist_kws = {\"alpha\":0.3})\n",
    "sns.distplot(review_len_test, hist_kws = {\"alpha\":0.3})\n",
    "plt.show()"
   ]
  },
  {
   "cell_type": "code",
   "execution_count": 14,
   "id": "f1e26dad",
   "metadata": {},
   "outputs": [
    {
     "name": "stdout",
     "output_type": "stream",
     "text": [
      "Train Mean: 238.71364\n",
      "Train Median: 178.0\n",
      "Train Mode: 132\n"
     ]
    }
   ],
   "source": [
    "print(\"Train Mean:\", np.mean(review_len_train))\n",
    "print(\"Train Median:\", np.median(review_len_train))\n",
    "print(\"Train Mode:\", stats.mode(review_len_train)[0][0])"
   ]
  },
  {
   "cell_type": "markdown",
   "id": "2c6cd2ec",
   "metadata": {},
   "source": [
    "# Number of Words"
   ]
  },
  {
   "cell_type": "code",
   "execution_count": 15,
   "id": "c64d937c",
   "metadata": {},
   "outputs": [
    {
     "name": "stdout",
     "output_type": "stream",
     "text": [
      "<class 'dict'>\n"
     ]
    }
   ],
   "source": [
    "word_index = imdb.get_word_index()\n",
    "print(type(word_index))"
   ]
  },
  {
   "cell_type": "code",
   "execution_count": 16,
   "id": "332b0d5e",
   "metadata": {},
   "outputs": [
    {
     "name": "stdout",
     "output_type": "stream",
     "text": [
      "88584\n"
     ]
    }
   ],
   "source": [
    "print(len(word_index))"
   ]
  },
  {
   "cell_type": "code",
   "execution_count": 17,
   "id": "44afe68e",
   "metadata": {},
   "outputs": [
    {
     "name": "stdout",
     "output_type": "stream",
     "text": [
      "the\n"
     ]
    }
   ],
   "source": [
    "for keys, values in word_index.items():\n",
    "    if values == 1:\n",
    "        print(keys)"
   ]
  },
  {
   "cell_type": "code",
   "execution_count": 18,
   "id": "f72aced7",
   "metadata": {},
   "outputs": [],
   "source": [
    "def whatItSay(index = 24):\n",
    "    \n",
    "    reverse_index = dict([(value,key) for (key, value) in word_index.items()])\n",
    "    decode_review = \" \".join([reverse_index.get(i - 3, \"!\") for i in X_train[index]])\n",
    "    print(decode_review)\n",
    "    print(Y_train[index])\n",
    "    return decode_review"
   ]
  },
  {
   "cell_type": "code",
   "execution_count": 19,
   "id": "ca903353",
   "metadata": {},
   "outputs": [
    {
     "name": "stdout",
     "output_type": "stream",
     "text": [
      "! a total waste of time just throw in a few explosions non stop fighting exotic cars a deranged millionaire slow motion computer generated car crashes and last but not least a hugh hefner like character with wall to wall hot babes and mix in a blender and you will have this sorry excuse for a movie i really got a laugh out of the dr evil like heavily fortified compound the plot was somewhere between preposterous and non existent how many millionaires are willing to make a 25 million dollar bet on a car race answer 4 but didn't they become millionaires through fiscal responsibility this was written for pubescent males it plays like a video game i did enjoy the gulfstream ii landing in the desert though\n",
      "0\n"
     ]
    }
   ],
   "source": [
    "decoded_review = whatItSay(15)"
   ]
  },
  {
   "cell_type": "markdown",
   "id": "a679e48c",
   "metadata": {},
   "source": [
    "# Preprocessing"
   ]
  },
  {
   "cell_type": "code",
   "execution_count": 20,
   "id": "59b25baf",
   "metadata": {},
   "outputs": [],
   "source": [
    "num_words = 25000\n",
    "(X_train,Y_train), (X_test, Y_test) = imdb.load_data(num_words = num_words)"
   ]
  },
  {
   "cell_type": "code",
   "execution_count": 21,
   "id": "41c7f42c",
   "metadata": {},
   "outputs": [
    {
     "name": "stdout",
     "output_type": "stream",
     "text": [
      "[    0     0     0     0     0     0     0     0     0     0     0     0\n",
      "     0     0     0     0     0     0     0     0     0     0     0     0\n",
      "     0     0     0     0     0     0     0     0     0     0     0     0\n",
      "     0     0     0     0     0     0     0     0     0     0     0     0\n",
      "     0     0     0     0     0     0     0     0     0     0     0     0\n",
      "     0     0     0     0     0     0     0     0     0     0     0     0\n",
      "     0     0     0     0     0     0     0     0     0     0     0     0\n",
      "     0     0     0     0     0     0     0     0     0     0     0     0\n",
      "     0     0     0     0     0     0     0     0     0     0     0     0\n",
      "     0     0     0     0     0     0     0     0     0     1   778   128\n",
      "    74    12   630   163    15     4  1766  7982  1051     2    32    85\n",
      "   156    45    40   148   139   121   664   665    10    10  1361   173\n",
      "     4   749     2    16  3804     8     4   226    65    12    43   127\n",
      "    24 15344    10    10]\n",
      "160\n",
      "160\n",
      "160\n",
      "160\n",
      "160\n",
      "160\n",
      "160\n",
      "160\n",
      "160\n",
      "160\n",
      "! ! ! ! ! ! ! ! ! ! ! ! ! ! ! ! ! ! ! ! ! ! ! ! ! ! ! ! ! ! ! ! ! ! ! ! ! ! ! ! ! ! ! ! ! ! ! ! ! ! ! ! ! ! ! ! ! ! ! ! ! ! ! ! ! ! ! ! ! ! ! ! ! ! ! ! ! ! ! ! ! ! ! ! ! ! ! ! ! ! ! ! ! ! ! ! ! ! ! ! ! ! ! ! ! ! ! ! ! ! ! ! ! ! ! ! ! ! begins better than it ends funny that the russian submarine crew ! all other actors it's like those scenes where documentary shots br br spoiler part the message ! was contrary to the whole story it just does not mesh br br\n",
      "0\n"
     ]
    }
   ],
   "source": [
    "maxlen = 160\n",
    "X_train = pad_sequences(X_train, maxlen = maxlen)\n",
    "X_test = pad_sequences(X_test, maxlen = maxlen)\n",
    "\n",
    "print(X_train[5])\n",
    "\n",
    "for i in X_train[0:10]:\n",
    "    print(len(i))\n",
    "    \n",
    "decoded_review = whatItSay(5)"
   ]
  },
  {
   "cell_type": "markdown",
   "id": "7d75bd65",
   "metadata": {},
   "source": [
    "# Constructing Convolutional Neural Network"
   ]
  },
  {
   "cell_type": "code",
   "execution_count": 23,
   "id": "d70067b4",
   "metadata": {},
   "outputs": [
    {
     "name": "stdout",
     "output_type": "stream",
     "text": [
      "Model: \"sequential_1\"\n",
      "_________________________________________________________________\n",
      " Layer (type)                Output Shape              Param #   \n",
      "=================================================================\n",
      " embedding_1 (Embedding)     (None, 160, 32)           800000    \n",
      "                                                                 \n",
      " conv1d_1 (Conv1D)           (None, 158, 16)           1552      \n",
      "                                                                 \n",
      " global_max_pooling1d (Globa  (None, 16)               0         \n",
      " lMaxPooling1D)                                                  \n",
      "                                                                 \n",
      " flatten_1 (Flatten)         (None, 16)                0         \n",
      "                                                                 \n",
      " dense_1 (Dense)             (None, 4)                 68        \n",
      "                                                                 \n",
      " dense_2 (Dense)             (None, 1)                 5         \n",
      "                                                                 \n",
      "=================================================================\n",
      "Total params: 801,625\n",
      "Trainable params: 801,625\n",
      "Non-trainable params: 0\n",
      "_________________________________________________________________\n",
      "None\n"
     ]
    }
   ],
   "source": [
    "from tensorflow import keras\n",
    "from tensorflow.keras.models import Sequential\n",
    "from tensorflow.keras.layers import Conv1D,MaxPooling1D,Flatten,Dense,Activation,BatchNormalization,GlobalMaxPooling1D\n",
    "\n",
    "cnn = Sequential()\n",
    "\n",
    "cnn.add(Embedding(num_words,32,input_length =len(X_train[0]))) # num_words=15000\n",
    "cnn.add(Conv1D(16, 3,  padding=\"valid\", activation=\"relu\"))\n",
    "cnn.add(GlobalMaxPooling1D())\n",
    "cnn.add(Flatten())\n",
    "cnn.add(Dense(4,activation=\"relu\"))\n",
    "cnn.add(Dense(1,activation=\"sigmoid\"))\n",
    "\n",
    "\n",
    "print(cnn.summary())\n",
    "cnn.compile(loss=\"binary_crossentropy\",optimizer=\"adam\",metrics=[\"accuracy\"])"
   ]
  },
  {
   "cell_type": "markdown",
   "id": "68209e3f",
   "metadata": {},
   "source": [
    "# Training Recurrent Neural Network"
   ]
  },
  {
   "cell_type": "code",
   "execution_count": 24,
   "id": "fe55d726",
   "metadata": {
    "scrolled": false
   },
   "outputs": [
    {
     "name": "stdout",
     "output_type": "stream",
     "text": [
      "Epoch 1/30\n",
      "196/196 [==============================] - 3s 12ms/step - loss: 0.6444 - accuracy: 0.6487 - val_loss: 0.5646 - val_accuracy: 0.7667\n",
      "Epoch 2/30\n",
      "196/196 [==============================] - 2s 11ms/step - loss: 0.4812 - accuracy: 0.8182 - val_loss: 0.3817 - val_accuracy: 0.8319\n",
      "Epoch 3/30\n",
      "196/196 [==============================] - 2s 11ms/step - loss: 0.2810 - accuracy: 0.8921 - val_loss: 0.3466 - val_accuracy: 0.8481\n",
      "Epoch 4/30\n",
      "196/196 [==============================] - 2s 11ms/step - loss: 0.1782 - accuracy: 0.9388 - val_loss: 0.3495 - val_accuracy: 0.8506\n",
      "Epoch 5/30\n",
      "196/196 [==============================] - 2s 11ms/step - loss: 0.1046 - accuracy: 0.9697 - val_loss: 0.3708 - val_accuracy: 0.8495\n",
      "Epoch 6/30\n",
      "196/196 [==============================] - 2s 11ms/step - loss: 0.0587 - accuracy: 0.9872 - val_loss: 0.4071 - val_accuracy: 0.8460\n",
      "Epoch 7/30\n",
      "196/196 [==============================] - 2s 11ms/step - loss: 0.0325 - accuracy: 0.9951 - val_loss: 0.4408 - val_accuracy: 0.8449\n",
      "Epoch 8/30\n",
      "196/196 [==============================] - 2s 11ms/step - loss: 0.0180 - accuracy: 0.9979 - val_loss: 0.4754 - val_accuracy: 0.8444\n",
      "Epoch 9/30\n",
      "196/196 [==============================] - 2s 11ms/step - loss: 0.0109 - accuracy: 0.9991 - val_loss: 0.5039 - val_accuracy: 0.8433\n",
      "Epoch 10/30\n",
      "196/196 [==============================] - 2s 11ms/step - loss: 0.0068 - accuracy: 0.9996 - val_loss: 0.5303 - val_accuracy: 0.8436\n",
      "Epoch 11/30\n",
      "196/196 [==============================] - 2s 11ms/step - loss: 0.0045 - accuracy: 0.9998 - val_loss: 0.5532 - val_accuracy: 0.8439\n",
      "Epoch 12/30\n",
      "196/196 [==============================] - 2s 11ms/step - loss: 0.0029 - accuracy: 0.9999 - val_loss: 0.5758 - val_accuracy: 0.8445\n",
      "Epoch 13/30\n",
      "196/196 [==============================] - 2s 11ms/step - loss: 0.0020 - accuracy: 1.0000 - val_loss: 0.5946 - val_accuracy: 0.8441\n",
      "Epoch 14/30\n",
      "196/196 [==============================] - 2s 11ms/step - loss: 0.0013 - accuracy: 1.0000 - val_loss: 0.6157 - val_accuracy: 0.8436\n",
      "Epoch 15/30\n",
      "196/196 [==============================] - 2s 11ms/step - loss: 0.0010 - accuracy: 1.0000 - val_loss: 0.6317 - val_accuracy: 0.8443\n",
      "Epoch 16/30\n",
      "196/196 [==============================] - 2s 11ms/step - loss: 7.9725e-04 - accuracy: 1.0000 - val_loss: 0.6479 - val_accuracy: 0.8438\n",
      "Epoch 17/30\n",
      "196/196 [==============================] - 2s 11ms/step - loss: 6.4253e-04 - accuracy: 1.0000 - val_loss: 0.6624 - val_accuracy: 0.8441\n",
      "Epoch 18/30\n",
      "196/196 [==============================] - 2s 11ms/step - loss: 5.2265e-04 - accuracy: 1.0000 - val_loss: 0.6771 - val_accuracy: 0.8432\n",
      "Epoch 19/30\n",
      "196/196 [==============================] - 2s 11ms/step - loss: 4.3304e-04 - accuracy: 1.0000 - val_loss: 0.6901 - val_accuracy: 0.8438\n",
      "Epoch 20/30\n",
      "196/196 [==============================] - 2s 11ms/step - loss: 3.6181e-04 - accuracy: 1.0000 - val_loss: 0.7033 - val_accuracy: 0.8435\n",
      "Epoch 21/30\n",
      "196/196 [==============================] - 2s 11ms/step - loss: 3.0451e-04 - accuracy: 1.0000 - val_loss: 0.7160 - val_accuracy: 0.8437\n",
      "Epoch 22/30\n",
      "196/196 [==============================] - 2s 11ms/step - loss: 2.5818e-04 - accuracy: 1.0000 - val_loss: 0.7275 - val_accuracy: 0.8434\n",
      "Epoch 23/30\n",
      "196/196 [==============================] - 2s 11ms/step - loss: 2.2027e-04 - accuracy: 1.0000 - val_loss: 0.7399 - val_accuracy: 0.8438\n",
      "Epoch 24/30\n",
      "196/196 [==============================] - 2s 11ms/step - loss: 1.8801e-04 - accuracy: 1.0000 - val_loss: 0.7515 - val_accuracy: 0.8433\n",
      "Epoch 25/30\n",
      "196/196 [==============================] - 2s 11ms/step - loss: 1.6191e-04 - accuracy: 1.0000 - val_loss: 0.7627 - val_accuracy: 0.8430\n",
      "Epoch 26/30\n",
      "196/196 [==============================] - 2s 11ms/step - loss: 1.3973e-04 - accuracy: 1.0000 - val_loss: 0.7736 - val_accuracy: 0.8429\n",
      "Epoch 27/30\n",
      "196/196 [==============================] - 2s 11ms/step - loss: 1.2117e-04 - accuracy: 1.0000 - val_loss: 0.7849 - val_accuracy: 0.8431\n",
      "Epoch 28/30\n",
      "196/196 [==============================] - 2s 11ms/step - loss: 1.0503e-04 - accuracy: 1.0000 - val_loss: 0.7958 - val_accuracy: 0.8429\n",
      "Epoch 29/30\n",
      "196/196 [==============================] - 2s 11ms/step - loss: 9.1369e-05 - accuracy: 1.0000 - val_loss: 0.8062 - val_accuracy: 0.8428\n",
      "Epoch 30/30\n",
      "196/196 [==============================] - 2s 11ms/step - loss: 7.9776e-05 - accuracy: 1.0000 - val_loss: 0.8166 - val_accuracy: 0.8426\n"
     ]
    }
   ],
   "source": [
    "history = cnn.fit(X_train, Y_train, validation_data = (X_test, Y_test),epochs = 30, batch_size = 128, verbose = 1)"
   ]
  },
  {
   "cell_type": "markdown",
   "id": "630ab517",
   "metadata": {},
   "source": [
    "# Evaluating Result"
   ]
  },
  {
   "cell_type": "markdown",
   "id": "5031ced7",
   "metadata": {},
   "source": [
    "# Accuracy"
   ]
  },
  {
   "cell_type": "code",
   "execution_count": 26,
   "id": "0fc122c1",
   "metadata": {},
   "outputs": [
    {
     "name": "stdout",
     "output_type": "stream",
     "text": [
      "782/782 [==============================] - 1s 875us/step - loss: 0.8166 - accuracy: 0.8426\n",
      "Accuracy: % 84.25999879837036\n"
     ]
    }
   ],
   "source": [
    "score = cnn.evaluate(X_test, Y_test)\n",
    "print(\"Accuracy: %\",score[1]*100)"
   ]
  },
  {
   "cell_type": "code",
   "execution_count": 27,
   "id": "e12eba5f",
   "metadata": {},
   "outputs": [
    {
     "data": {
      "image/png": "[encoded data removed]",
      "text/plain": [
       "<Figure size 432x288 with 1 Axes>"
      ]
     },
     "metadata": {},
     "output_type": "display_data"
    }
   ],
   "source": [
    "plt.figure()\n",
    "plt.plot(history.history[\"accuracy\"], label = \"Train\")\n",
    "plt.plot(history.history[\"val_accuracy\"], label = \"Test\")\n",
    "plt.title(\"Accuracy\")\n",
    "plt.ylabel(\"Accuracy\")\n",
    "plt.xlabel(\"Epochs\")\n",
    "plt.legend()\n",
    "plt.show()"
   ]
  },
  {
   "cell_type": "code",
   "execution_count": 28,
   "id": "b20c9bfe",
   "metadata": {},
   "outputs": [
    {
     "data": {
      "image/png": "[encoded data removed]",
      "text/plain": [
       "<Figure size 432x288 with 1 Axes>"
      ]
     },
     "metadata": {},
     "output_type": "display_data"
    }
   ],
   "source": [
    "plt.figure()\n",
    "plt.plot(history.history[\"loss\"], label = \"Train\")\n",
    "plt.plot(history.history[\"val_loss\"], label = \"Test\")\n",
    "plt.title(\"Loss\")\n",
    "plt.ylabel(\"Loss\")\n",
    "plt.xlabel(\"Epochs\")\n",
    "plt.legend()\n",
    "plt.show()"
   ]
  },
  {
   "cell_type": "markdown",
   "id": "58ff7fbc",
   "metadata": {},
   "source": [
    "# Confusion Matrix"
   ]
  },
  {
   "cell_type": "code",
   "execution_count": 30,
   "id": "68286108",
   "metadata": {},
   "outputs": [
    {
     "data": {
      "image/png": "[encoded data removed]",
      "text/plain": [
       "<Figure size 432x432 with 2 Axes>"
      ]
     },
     "metadata": {},
     "output_type": "display_data"
    },
    {
     "name": "stdout",
     "output_type": "stream",
     "text": [
      "True Positive: 10564\n",
      "True Negative: 10501\n",
      "False Positive: 1936\n",
      "False Negative: 1999\n"
     ]
    }
   ],
   "source": [
    "y_pred = cnn.predict(X_test)\n",
    "y_pred = (y_pred > 0.5)\n",
    "cm = confusion_matrix(Y_test,y_pred)\n",
    "\n",
    "df1 = pd.DataFrame(columns=[\"True\",\"False\"], index= [\"True\",\"False\"], data= cm ) \n",
    "\n",
    "f,ax = plt.subplots(figsize=(6,6))\n",
    "sns.heatmap(df1, annot=True,cmap=\"Blues\", fmt= '.0f',ax=ax)\n",
    "plt.xlabel(\"Predicted Label\")\n",
    "plt.xticks(size = 12)\n",
    "plt.yticks(size = 12, rotation = 0)\n",
    "plt.ylabel(\"True Label\")\n",
    "plt.title(\"Confusion Matrix\", size = 30)\n",
    "plt.show()\n",
    "\n",
    "print (\"True Positive:\" , (cm[0,0]))\n",
    "print (\"True Negative:\" , (cm[1,1]))\n",
    "print (\"False Positive:\" , (cm[0,1]))\n",
    "print (\"False Negative:\" , (cm[1,0]))"
   ]
  },
  {
   "cell_type": "code",
   "execution_count": null,
   "id": "ae6ad9ba",
   "metadata": {},
   "outputs": [],
   "source": []
  }
 ],
 "metadata": {
  "kernelspec": {
   "display_name": "Python 3 (ipykernel)",
   "language": "python",
   "name": "python3"
  },
  "language_info": {
   "codemirror_mode": {
    "name": "ipython",
    "version": 3
   },
   "file_extension": ".py",
   "mimetype": "text/x-python",
   "name": "python",
   "nbconvert_exporter": "python",
   "pygments_lexer": "ipython3",
   "version": "3.9.12"
  }
 },
 "nbformat": 4,
 "nbformat_minor": 5
}
